{
 "cells": [
  {
   "cell_type": "code",
   "execution_count": 31,
   "metadata": {},
   "outputs": [],
   "source": [
    "import requests\n",
    "from bs4 import BeautifulSoup\n",
    "from time import sleep\n",
    "import re\n",
    "from random import randrange, uniform\n",
    "\n",
    "\n"
   ]
  },
  {
   "cell_type": "code",
   "execution_count": 25,
   "metadata": {},
   "outputs": [],
   "source": [
    "target_folder = 'E:\\Crawledmovies'\n",
    "base_url = 'https://flixable.com/title/'"
   ]
  },
  {
   "cell_type": "code",
   "execution_count": 29,
   "metadata": {},
   "outputs": [],
   "source": [
    "done = [] #Array of movie page url's that have already been visited\n",
    "to_do = ['https://flixable.com/title/80123729/']"
   ]
  },
  {
   "cell_type": "code",
   "execution_count": 30,
   "metadata": {},
   "outputs": [
    {
     "name": "stdout",
     "output_type": "stream",
     "text": [
      "https://flixable.com/title/80123729/ succesfully stored\n",
      "https://flixable.com/title/80128690 succesfully stored\n",
      "https://flixable.com/title/80128690 succesfully stored\n",
      "https://flixable.com/title/80168161 succesfully stored\n",
      "https://flixable.com/title/80038159 succesfully stored\n",
      "https://flixable.com/title/80118873 succesfully stored\n",
      "https://flixable.com/title/80118873 succesfully stored\n",
      "https://flixable.com/title/80103478 succesfully stored\n",
      "https://flixable.com/title/80087933 succesfully stored\n",
      "https://flixable.com/title/80117263 succesfully stored\n",
      "https://flixable.com/title/80106338 succesfully stored\n",
      "https://flixable.com/title/80108382 succesfully stored\n",
      "https://flixable.com/title/80156517 succesfully stored\n",
      "https://flixable.com/title/80204377 succesfully stored\n"
     ]
    },
    {
     "ename": "KeyboardInterrupt",
     "evalue": "",
     "output_type": "error",
     "traceback": [
      "\u001b[1;31m---------------------------------------------------------------------------\u001b[0m",
      "\u001b[1;31mKeyboardInterrupt\u001b[0m                         Traceback (most recent call last)",
      "\u001b[1;32m<ipython-input-30-0bdf923fb992>\u001b[0m in \u001b[0;36m<module>\u001b[1;34m()\u001b[0m\n\u001b[0;32m     32\u001b[0m         \u001b[1;32mexcept\u001b[0m\u001b[1;33m:\u001b[0m\u001b[1;33m\u001b[0m\u001b[0m\n\u001b[0;32m     33\u001b[0m                 \u001b[0mprint\u001b[0m\u001b[1;33m(\u001b[0m\u001b[1;34m'failed for url '\u001b[0m\u001b[1;33m+\u001b[0m\u001b[0murl\u001b[0m\u001b[1;33m)\u001b[0m\u001b[1;33m\u001b[0m\u001b[0m\n\u001b[1;32m---> 34\u001b[1;33m         \u001b[0msleep\u001b[0m\u001b[1;33m(\u001b[0m\u001b[1;36m1\u001b[0m\u001b[1;33m)\u001b[0m\u001b[1;33m\u001b[0m\u001b[0m\n\u001b[0m",
      "\u001b[1;31mKeyboardInterrupt\u001b[0m: "
     ]
    }
   ],
   "source": [
    "#Given a url, return the content of the page as string\n",
    "def get_page(url):\n",
    "\tresponse = requests.get(url)\n",
    "\treturn response.text\n",
    "\t\n",
    "\t\n",
    "def store(page, url):\n",
    "\tcode = url.split('/title/')[1].split('/')[0]\n",
    "\tfile_name = target_folder+'\\\\'+code+'.txt'\n",
    "\tfile = open(file_name, 'w+', encoding='utf-8')\n",
    "\tfile.write(page)\n",
    "\tfile.close()\n",
    "\n",
    "#Given a the content of a page in string format, return the links to other movies it contains\n",
    "def get_movie_links(page):\n",
    "\tsoup = BeautifulSoup(page, 'html.parser')\n",
    "\tlinks = [a['href'] for a in soup.findAll('a', href=True)]\n",
    "\tmovielinks = [base_url+re.split('\\?|\\/',link)[2] for link in links if link.startswith('/title')]\n",
    "\treturn movielinks\n",
    "\t\n",
    "while len(to_do) > 0:\n",
    "\turl = to_do.pop()\n",
    "\ttry:\n",
    "\t\tpage = get_page(url)\n",
    "\t\tstore(page,url)\n",
    "\t\tmovie_links = get_movie_links(page)\n",
    "\t\tfor link in movie_links:\n",
    "\t\t\tif link not in done and link not in to_do:\n",
    "\t\t\t\tto_do.append(link)\n",
    "\t\tdone.append(url)\n",
    "\t\tprint(url, 'succesfully stored')\n",
    "\texcept:\n",
    "\t\tprint('failed for url '+url)\t\t\n",
    "\tsleep(uniform(0, 1))"
   ]
  }
 ],
 "metadata": {
  "kernelspec": {
   "display_name": "Python 3",
   "language": "python",
   "name": "python3"
  },
  "language_info": {
   "codemirror_mode": {
    "name": "ipython",
    "version": 3
   },
   "file_extension": ".py",
   "mimetype": "text/x-python",
   "name": "python",
   "nbconvert_exporter": "python",
   "pygments_lexer": "ipython3",
   "version": "3.6.6"
  }
 },
 "nbformat": 4,
 "nbformat_minor": 2
}
