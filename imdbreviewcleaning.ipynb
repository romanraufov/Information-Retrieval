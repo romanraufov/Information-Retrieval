{
 "cells": [
  {
   "cell_type": "code",
   "execution_count": 1,
   "metadata": {},
   "outputs": [],
   "source": [
    "import pandas as pd\n",
    "import numpy as np \n",
    "import matplotlib as plt\n",
    "import seaborn as sns\n",
    "import glob , numpy\n",
    "import os\n",
    "import os.path\n",
    "import re\n",
    "import html\n",
    "import csv\n",
    "import math\n",
    "\n",
    "from bs4 import BeautifulSoup"
   ]
  },
  {
   "cell_type": "code",
   "execution_count": 6,
   "metadata": {},
   "outputs": [
    {
     "ename": "SyntaxError",
     "evalue": "invalid syntax (<ipython-input-6-121eb90da267>, line 29)",
     "output_type": "error",
     "traceback": [
      "\u001b[1;36m  File \u001b[1;32m\"<ipython-input-6-121eb90da267>\"\u001b[1;36m, line \u001b[1;32m29\u001b[0m\n\u001b[1;33m    div class=\"text show-more__control\"\u001b[0m\n\u001b[1;37m            ^\u001b[0m\n\u001b[1;31mSyntaxError\u001b[0m\u001b[1;31m:\u001b[0m invalid syntax\n"
     ]
    }
   ],
   "source": [
    "path=\"E:\\Crawledmovies\\*.txt\"\n",
    "files = glob.glob(path)\n",
    "\n",
    "titlelist=[]\n",
    "yearlist = []\n",
    "WatchTypelist = []\n",
    "imdburllist=[]\n",
    "reviews=[]\n",
    "counter = 0\n",
    "WatchTypePosibilities = [\"Episode\", \"Video\", \"Series\"]\n",
    "\n",
    "totalFileCount = len(files)\n",
    "for file in files:\n",
    "    #print(\"file: \", file)\n",
    "    counter += 1\n",
    "    myfile = open(file, 'r',encoding=\"utf8\")\n",
    "    soup = BeautifulSoup(myfile.read(), \"html.parser\")\n",
    "    #print(\"tags: \", soup.find(\"meta\", property=\"og:title\")['content'])\n",
    "    metaTag = soup.find(\"meta\", property=\"og:title\")['content'].split(\"(\")\n",
    "    CurrentWatchType = [i for i in WatchTypePosibilities if i in metaTag[-1]]\n",
    "    if not CurrentWatchType:\n",
    "        CurrentWatchType = [\"Movie\"]\n",
    "    title = metaTag[:-1][0]\n",
    "    yearpart = re.findall('\\d+', metaTag[-1])\n",
    "    year = yearpart[0] if len(yearpart) == 1 else yearpart[0] + \"-\" + yearpart[1]\n",
    "    imdburl=soup.find(\"meta\", property=\"og:url\")['content'].split(\"/>\")\n",
    "    #review=soup.find(\"div\", class_=\"text show-more__control\")['content']\n",
    "\n",
    "    div class=\"text show-more__control\"\n",
    "    if title is None:\n",
    "        continue #jump to next file: If there is no title, we ignore the file\n",
    "    else:\n",
    "        titlelist.append(title)\n",
    "        if year is None:\n",
    "            yearlist.append('')\n",
    "        else:\n",
    "            yearlist.append(year)\n",
    "            WatchTypelist.append(CurrentWatchType[0])\n",
    "        if imdburl is None:\n",
    "            imdburllist.append('')\n",
    "        else:\n",
    "            imdburllist.append(imdburl)\n",
    "        #if review is None:\n",
    "        #    reviews.append(\"\")\n",
    "        #else:\n",
    "         #   reviews.append(review)"
   ]
  },
  {
   "cell_type": "code",
   "execution_count": 12,
   "metadata": {},
   "outputs": [],
   "source": [
    "reviews=[]\n",
    "path=\"E:\\Crawledmovies\\*.txt\"\n",
    "files = glob.glob(path)\n",
    "for file in files:\n",
    "        myfile=open(file, 'r',encoding=\"utf8\")\n",
    "        data=myfile.read().replace('\\n', ' ').replace('\\t', ' ').replace(';',',')\n",
    "        imdb=re.search('<div class=\"text show-more__control\">(.*)<div class=\"actions text-muted\">', data)\n",
    "        if imdb is None:\n",
    "            reviews.append('')\n",
    "        else:\n",
    "            imdb=imdb.group(1).split('</div')[0].strip()\n",
    "            reviews.append(imdb)"
   ]
  },
  {
   "cell_type": "code",
   "execution_count": 16,
   "metadata": {},
   "outputs": [
    {
     "data": {
      "text/plain": [
       "6"
      ]
     },
     "execution_count": 16,
     "metadata": {},
     "output_type": "execute_result"
    }
   ],
   "source": [
    "len(reviews)"
   ]
  },
  {
   "cell_type": "code",
   "execution_count": 3,
   "metadata": {},
   "outputs": [],
   "source": [
    "imdburllistclean=[val for sublist in imdburllist for val in sublist]"
   ]
  },
  {
   "cell_type": "code",
   "execution_count": 5,
   "metadata": {},
   "outputs": [
    {
     "data": {
      "text/html": [
       "<div>\n",
       "<style scoped>\n",
       "    .dataframe tbody tr th:only-of-type {\n",
       "        vertical-align: middle;\n",
       "    }\n",
       "\n",
       "    .dataframe tbody tr th {\n",
       "        vertical-align: top;\n",
       "    }\n",
       "\n",
       "    .dataframe thead th {\n",
       "        text-align: right;\n",
       "    }\n",
       "</style>\n",
       "<table border=\"1\" class=\"dataframe\">\n",
       "  <thead>\n",
       "    <tr style=\"text-align: right;\">\n",
       "      <th></th>\n",
       "      <th>title</th>\n",
       "      <th>summary</th>\n",
       "      <th>year</th>\n",
       "      <th>type</th>\n",
       "      <th>imdburl</th>\n",
       "    </tr>\n",
       "  </thead>\n",
       "  <tbody>\n",
       "    <tr>\n",
       "      <th>0</th>\n",
       "      <td>Uncle Josh in a Spooky Hotel</td>\n",
       "      <td>[uncle josh in a spooky hotel (1900) on imdb: ...</td>\n",
       "      <td>1900</td>\n",
       "      <td>Movie</td>\n",
       "      <td>http://www.imdb.com/title/tt0000340/reviews</td>\n",
       "    </tr>\n",
       "    <tr>\n",
       "      <th>1</th>\n",
       "      <td>Uncle Josh's Nightmare</td>\n",
       "      <td>[uncle josh's nightmare (1900) on imdb: movies...</td>\n",
       "      <td>1900</td>\n",
       "      <td>Movie</td>\n",
       "      <td>http://www.imdb.com/title/tt0000341/reviews</td>\n",
       "    </tr>\n",
       "    <tr>\n",
       "      <th>2</th>\n",
       "      <td>Uncle Josh at the Moving Picture Show</td>\n",
       "      <td>[uncle josh at the moving picture show (1902) ...</td>\n",
       "      <td>1902</td>\n",
       "      <td>Movie</td>\n",
       "      <td>http://www.imdb.com/title/tt0000414/reviews</td>\n",
       "    </tr>\n",
       "    <tr>\n",
       "      <th>3</th>\n",
       "      <td>Esmeralda</td>\n",
       "      <td>[esmeralda (1905) on imdb: movies, tv, celebs,...</td>\n",
       "      <td>1905</td>\n",
       "      <td>Movie</td>\n",
       "      <td>http://www.imdb.com/title/tt0000511/reviews</td>\n",
       "    </tr>\n",
       "    <tr>\n",
       "      <th>4</th>\n",
       "      <td>The Bandit's Waterloo</td>\n",
       "      <td>[the bandit's waterloo (1908) on imdb: movies,...</td>\n",
       "      <td>1908</td>\n",
       "      <td>Movie</td>\n",
       "      <td>http://www.imdb.com/title/tt0000642/reviews</td>\n",
       "    </tr>\n",
       "    <tr>\n",
       "      <th>5</th>\n",
       "      <td>Behind the Scenes</td>\n",
       "      <td>[behind the scenes (1908) on imdb: movies, tv,...</td>\n",
       "      <td>1908</td>\n",
       "      <td>Movie</td>\n",
       "      <td>http://www.imdb.com/title/tt0000644/reviews</td>\n",
       "    </tr>\n",
       "  </tbody>\n",
       "</table>\n",
       "</div>"
      ],
      "text/plain": [
       "                                    title  \\\n",
       "0           Uncle Josh in a Spooky Hotel    \n",
       "1                 Uncle Josh's Nightmare    \n",
       "2  Uncle Josh at the Moving Picture Show    \n",
       "3                              Esmeralda    \n",
       "4                  The Bandit's Waterloo    \n",
       "5                      Behind the Scenes    \n",
       "\n",
       "                                             summary  year   type  \\\n",
       "0  [uncle josh in a spooky hotel (1900) on imdb: ...  1900  Movie   \n",
       "1  [uncle josh's nightmare (1900) on imdb: movies...  1900  Movie   \n",
       "2  [uncle josh at the moving picture show (1902) ...  1902  Movie   \n",
       "3  [esmeralda (1905) on imdb: movies, tv, celebs,...  1905  Movie   \n",
       "4  [the bandit's waterloo (1908) on imdb: movies,...  1908  Movie   \n",
       "5  [behind the scenes (1908) on imdb: movies, tv,...  1908  Movie   \n",
       "\n",
       "                                       imdburl  \n",
       "0  http://www.imdb.com/title/tt0000340/reviews  \n",
       "1  http://www.imdb.com/title/tt0000341/reviews  \n",
       "2  http://www.imdb.com/title/tt0000414/reviews  \n",
       "3  http://www.imdb.com/title/tt0000511/reviews  \n",
       "4  http://www.imdb.com/title/tt0000642/reviews  \n",
       "5  http://www.imdb.com/title/tt0000644/reviews  "
      ]
     },
     "execution_count": 5,
     "metadata": {},
     "output_type": "execute_result"
    }
   ],
   "source": [
    "data = pd.DataFrame({'title': titlelist, 'summary': summarylist,\"year\":yearlist, \"type\":WatchTypelist,\"imdburl\":imdburllistclean})\n",
    "#data.to_csv(\"imdbclean.csv\", encoding='utf-8', index=False)\n",
    "data"
   ]
  },
  {
   "cell_type": "code",
   "execution_count": null,
   "metadata": {},
   "outputs": [],
   "source": []
  }
 ],
 "metadata": {
  "kernelspec": {
   "display_name": "Python 3",
   "language": "python",
   "name": "python3"
  },
  "language_info": {
   "codemirror_mode": {
    "name": "ipython",
    "version": 3
   },
   "file_extension": ".py",
   "mimetype": "text/x-python",
   "name": "python",
   "nbconvert_exporter": "python",
   "pygments_lexer": "ipython3",
   "version": "3.6.6"
  }
 },
 "nbformat": 4,
 "nbformat_minor": 2
}
