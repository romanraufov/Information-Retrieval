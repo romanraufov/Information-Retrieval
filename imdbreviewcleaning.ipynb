{
 "cells": [
  {
   "cell_type": "code",
   "execution_count": 2,
   "metadata": {},
   "outputs": [],
   "source": [
    "import pandas as pd\n",
    "import numpy as np \n",
    "import matplotlib as plt\n",
    "import seaborn as sns\n",
    "import glob , numpy\n",
    "import os\n",
    "import os.path\n",
    "import re\n",
    "import html\n",
    "import csv\n",
    "import math\n",
    "\n",
    "from bs4 import BeautifulSoup"
   ]
  },
  {
   "cell_type": "code",
   "execution_count": 24,
   "metadata": {},
   "outputs": [],
   "source": [
    "path=\"E:\\Crawledmovies\\*.txt\"\n",
    "files = glob.glob(path)\n",
    "\n",
    "titlelist=[]\n",
    "yearlist = []\n",
    "imdburllist=[]\n",
    "reviews=[]\n",
    "\n",
    "totalFileCount = len(files)\n",
    "for file in files:\n",
    "    templist=[]\n",
    "    #print(\"file: \", file)\n",
    "    myfile = open(file, 'r',encoding=\"utf8\")\n",
    "    soup = BeautifulSoup(myfile.read(), \"html.parser\")\n",
    "    #print(\"tags: \", soup.find(\"meta\", property=\"og:title\")['content'])\n",
    "    metaTag = soup.find(\"meta\", property=\"og:title\")['content'].split(\"(\")\n",
    "    title = metaTag[:-1][0]\n",
    "    yearpart = re.findall('\\d+', metaTag[-1])\n",
    "    year = yearpart[0] if len(yearpart) == 1 else yearpart[0] + \"-\" + yearpart[1]\n",
    "    for x in soup.findAll(\"div\", class_=\"text show-more__control\"):\n",
    "        templist.append(list(x))\n",
    "\n",
    "    if title is None:\n",
    "        continue #jump to next file: If there is no title, we ignore the file\n",
    "    else:\n",
    "        titlelist.append(title)\n",
    "        if year is None:\n",
    "            yearlist.append('')\n",
    "        else:\n",
    "            yearlist.append(year)\n",
    "        if templist is None:\n",
    "            reviews.append(\"\")\n",
    "        else:\n",
    "            reviews.append(templist)"
   ]
  },
  {
   "cell_type": "code",
   "execution_count": 26,
   "metadata": {},
   "outputs": [
    {
     "data": {
      "text/html": [
       "<div>\n",
       "<style scoped>\n",
       "    .dataframe tbody tr th:only-of-type {\n",
       "        vertical-align: middle;\n",
       "    }\n",
       "\n",
       "    .dataframe tbody tr th {\n",
       "        vertical-align: top;\n",
       "    }\n",
       "\n",
       "    .dataframe thead th {\n",
       "        text-align: right;\n",
       "    }\n",
       "</style>\n",
       "<table border=\"1\" class=\"dataframe\">\n",
       "  <thead>\n",
       "    <tr style=\"text-align: right;\">\n",
       "      <th></th>\n",
       "      <th>title</th>\n",
       "      <th>year</th>\n",
       "      <th>userreviews</th>\n",
       "    </tr>\n",
       "  </thead>\n",
       "  <tbody>\n",
       "    <tr>\n",
       "      <th>0</th>\n",
       "      <td>The Matrix</td>\n",
       "      <td>1999</td>\n",
       "      <td>[[** May contain spoilers **, &lt;br/&gt;, &lt;br/&gt;, Th...</td>\n",
       "    </tr>\n",
       "    <tr>\n",
       "      <th>1</th>\n",
       "      <td>Batman Begins</td>\n",
       "      <td>2005</td>\n",
       "      <td>[[This film easily trumps any live-action inca...</td>\n",
       "    </tr>\n",
       "    <tr>\n",
       "      <th>2</th>\n",
       "      <td>Man of Steel</td>\n",
       "      <td>2013</td>\n",
       "      <td>[[At first I was very nervous at the prospect ...</td>\n",
       "    </tr>\n",
       "  </tbody>\n",
       "</table>\n",
       "</div>"
      ],
      "text/plain": [
       "            title  year                                        userreviews\n",
       "0     The Matrix   1999  [[** May contain spoilers **, <br/>, <br/>, Th...\n",
       "1  Batman Begins   2005  [[This film easily trumps any live-action inca...\n",
       "2   Man of Steel   2013  [[At first I was very nervous at the prospect ..."
      ]
     },
     "execution_count": 26,
     "metadata": {},
     "output_type": "execute_result"
    }
   ],
   "source": [
    "data = pd.DataFrame({'title': titlelist,\"year\":yearlist, \"userreviews\":reviews})\n",
    "#data.to_csv(\"imdbclean.csv\", encoding='utf-8', index=False)\n",
    "data"
   ]
  }
 ],
 "metadata": {
  "kernelspec": {
   "display_name": "Python 3",
   "language": "python",
   "name": "python3"
  },
  "language_info": {
   "codemirror_mode": {
    "name": "ipython",
    "version": 3
   },
   "file_extension": ".py",
   "mimetype": "text/x-python",
   "name": "python",
   "nbconvert_exporter": "python",
   "pygments_lexer": "ipython3",
   "version": "3.6.6"
  }
 },
 "nbformat": 4,
 "nbformat_minor": 2
}
