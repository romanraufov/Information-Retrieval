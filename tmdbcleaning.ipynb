{
 "cells": [
  {
   "cell_type": "code",
   "execution_count": 2,
   "metadata": {},
   "outputs": [],
   "source": [
    "\n",
    "import numpy as np\n",
    "import pandas as pd\n",
    "import matplotlib as plt\n",
    "import seaborn as sns\n",
    "import glob , numpy\n",
    "import os\n",
    "import os.path\n",
    "import re\n",
    "import html\n",
    "import csv\n",
    "import math\n",
    "\n",
    "from bs4 import BeautifulSoup"
   ]
  },
  {
   "cell_type": "code",
   "execution_count": 29,
   "metadata": {},
   "outputs": [],
   "source": [
    "path=\"E:\\Crawledmovies\\*.txt\"\n",
    "files = glob.glob(path)\n",
    "\n",
    "titlelist=[]\n",
    "summarylist=[]\n",
    "yearlist = []\n",
    "tmdbscorelist=[]\n",
    "\n",
    "\n",
    "for file in files:\n",
    "    myfile = open(file, 'r',encoding=\"utf8\")\n",
    "    soup = BeautifulSoup(myfile.read(), \"html.parser\")\n",
    "    title = soup.find(\"meta\", property=\"og:title\")['content']#.split(\"(\")\n",
    "    summary = soup.find('meta', attrs={\"name\": \"description\"})['content']#.split(\">\")\n",
    "    summary = summary.lower()\n",
    "    year=soup.find('span', {'class': 'release_date'}).contents[0]\n",
    "    tmdb=soup.find('div', {'class': 'user_score_chart'})['data-percent']\n",
    "\n",
    "    if title is None:\n",
    "        continue #jump to next file: If there is no title, we ignore the file\n",
    "    else:\n",
    "        titlelist.append(title)\n",
    "        if summary is None:\n",
    "            summarylist.append('')\n",
    "        else:\n",
    "            summarylist.append(summary)\n",
    "        if year is None:\n",
    "            yearlist.append('')\n",
    "        else:\n",
    "            yearlist.append(year)\n",
    "        if tmdb is None:\n",
    "            tmdbscorelist.append('')\n",
    "        else:\n",
    "            tmdbscorelist.append(tmdb)"
   ]
  },
  {
   "cell_type": "code",
   "execution_count": 38,
   "metadata": {},
   "outputs": [
    {
     "name": "stdout",
     "output_type": "stream",
     "text": [
      "['1991', '2017', '2014', '1999', '1986']\n"
     ]
    }
   ],
   "source": [
    "yearlistclean=[]\n",
    "for line in yearlist:\n",
    "    title=re.search(r'\\((.*?)\\)',line).group(1)\n",
    "    if title is None:\n",
    "        pass\n",
    "    else:\n",
    "        yearlistclean.append(title)\n",
    "\n",
    "\n",
    "\n"
   ]
  },
  {
   "cell_type": "code",
   "execution_count": 39,
   "metadata": {},
   "outputs": [
    {
     "data": {
      "text/html": [
       "<div>\n",
       "<style scoped>\n",
       "    .dataframe tbody tr th:only-of-type {\n",
       "        vertical-align: middle;\n",
       "    }\n",
       "\n",
       "    .dataframe tbody tr th {\n",
       "        vertical-align: top;\n",
       "    }\n",
       "\n",
       "    .dataframe thead th {\n",
       "        text-align: right;\n",
       "    }\n",
       "</style>\n",
       "<table border=\"1\" class=\"dataframe\">\n",
       "  <thead>\n",
       "    <tr style=\"text-align: right;\">\n",
       "      <th></th>\n",
       "      <th>title</th>\n",
       "      <th>summary</th>\n",
       "      <th>year</th>\n",
       "      <th>tmdb</th>\n",
       "    </tr>\n",
       "  </thead>\n",
       "  <tbody>\n",
       "    <tr>\n",
       "      <th>0</th>\n",
       "      <td>Beauty and the Beast</td>\n",
       "      <td>follow the adventures of belle, a bright young...</td>\n",
       "      <td>1991</td>\n",
       "      <td>77.0</td>\n",
       "    </tr>\n",
       "    <tr>\n",
       "      <th>1</th>\n",
       "      <td>Pirates of the Caribbean: Dead Men Tell No Tales</td>\n",
       "      <td>thrust into an all-new adventure, a down-on-hi...</td>\n",
       "      <td>2017</td>\n",
       "      <td>66.0</td>\n",
       "    </tr>\n",
       "    <tr>\n",
       "      <th>2</th>\n",
       "      <td>The Tribe</td>\n",
       "      <td>deaf mute sergey enters a specialized boarding...</td>\n",
       "      <td>2014</td>\n",
       "      <td>68.0</td>\n",
       "    </tr>\n",
       "    <tr>\n",
       "      <th>3</th>\n",
       "      <td>Toy Story 2</td>\n",
       "      <td>andy heads off to cowboy camp, leaving his toy...</td>\n",
       "      <td>1999</td>\n",
       "      <td>75.0</td>\n",
       "    </tr>\n",
       "    <tr>\n",
       "      <th>4</th>\n",
       "      <td>The Great Mouse Detective</td>\n",
       "      <td>when the diabolical professor ratigan kidnaps ...</td>\n",
       "      <td>1986</td>\n",
       "      <td>71.0</td>\n",
       "    </tr>\n",
       "  </tbody>\n",
       "</table>\n",
       "</div>"
      ],
      "text/plain": [
       "                                              title  \\\n",
       "0                              Beauty and the Beast   \n",
       "1  Pirates of the Caribbean: Dead Men Tell No Tales   \n",
       "2                                         The Tribe   \n",
       "3                                       Toy Story 2   \n",
       "4                         The Great Mouse Detective   \n",
       "\n",
       "                                             summary  year  tmdb  \n",
       "0  follow the adventures of belle, a bright young...  1991  77.0  \n",
       "1  thrust into an all-new adventure, a down-on-hi...  2017  66.0  \n",
       "2  deaf mute sergey enters a specialized boarding...  2014  68.0  \n",
       "3  andy heads off to cowboy camp, leaving his toy...  1999  75.0  \n",
       "4  when the diabolical professor ratigan kidnaps ...  1986  71.0  "
      ]
     },
     "execution_count": 39,
     "metadata": {},
     "output_type": "execute_result"
    }
   ],
   "source": [
    "data = pd.DataFrame({'title': titlelist, 'summary': summarylist,\"year\":yearlistclean,\"tmdb\":tmdbscorelist})\n",
    "data.to_csv(\"tmdbclean.csv\", encoding='utf-8', index=False)\n"
   ]
  }
 ],
 "metadata": {
  "kernelspec": {
   "display_name": "Python 3",
   "language": "python",
   "name": "python3"
  },
  "language_info": {
   "codemirror_mode": {
    "name": "ipython",
    "version": 3
   },
   "file_extension": ".py",
   "mimetype": "text/x-python",
   "name": "python",
   "nbconvert_exporter": "python",
   "pygments_lexer": "ipython3",
   "version": "3.6.6"
  }
 },
 "nbformat": 4,
 "nbformat_minor": 2
}
